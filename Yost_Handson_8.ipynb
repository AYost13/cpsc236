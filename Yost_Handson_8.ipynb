{
 "cells": [
  {
   "cell_type": "markdown",
   "metadata": {},
   "source": [
    "# Strings\n",
    "\n",
    "To submit this assignment in D2l, post the link to your notebook file on your GitHub account."
   ]
  },
  {
   "cell_type": "markdown",
   "metadata": {},
   "source": [
    "## 10.1 Email Creator\n",
    "Create a program that reads a file and creates a series of emails.\n",
    "\n",
    "### Console:\n",
    "```powershell\n",
    "Email Creator\n",
    "\n",
    "================================================================\n",
    "To: jbutler@gmail.com \n",
    "From: noreply@deals.com \n",
    "Subject: Deals!\n",
    "\n",
    "Hi James,\n",
    "\n",
    "We've got some great deals for you. Check our website!\n",
    "================================================================\n",
    "To:\tjosephine_darakjy@darakjy.org \n",
    "From:\tnoreply@deals.com\n",
    "Subject: Deals! \n",
    "\n",
    "Hi Josephine,\n",
    "\n",
    "We've got some great deals for you. Check our website!\n",
    "================================================================\n",
    "To:\tart@venere.org\n",
    "From:\tnoreply@deals.com \n",
    "Subject: Deals!\n",
    "\n",
    "Hi Art,\n",
    "\n",
    "We've got some great deals for you. Check our website!\n",
    "```\n",
    "\n",
    "### Specifications:\n",
    "- Use `email.csv` file:\n",
    "- Use `email_template.txt` file:\n",
    "- When the program starts, it should read the email addresses and first names from the file, merge them into the mass email template, and display the results on the console.\n",
    "- All email addresses should be converted to **lowercase**.\n",
    "- All first names should be converted to **title case**.\n",
    "- If you add names to the list of email addresses, the program should create more emails.\n",
    "- If you modify the template, the program should change the content of the email that’s created. \n",
    "\n"
   ]
  },
  {
   "cell_type": "code",
   "execution_count": 79,
   "metadata": {},
   "outputs": [
    {
     "name": "stdout",
     "output_type": "stream",
     "text": [
      "[['james', 'darakjy', 'jbutt@gmail.com'], ['josephine', 'darakjy', 'josephine_darakjy@darakjy.org'], ['art', 'venere', 'art@venere.org']]\n",
      "To:      jbutt@gmail.com\n",
      "From:    noreply@deals.com\n",
      "\n",
      "Subject: Deals!\n",
      "\n",
      "\n",
      "\n",
      "Hi James,\n",
      "\n",
      "\n",
      "We've got some great deals for you. Check our website!\n",
      "\n",
      "\n",
      "To:      josephine_darakjy@darakjy.org\n",
      "From:    noreply@deals.com\n",
      "\n",
      "Subject: Deals!\n",
      "\n",
      "\n",
      "\n",
      "Hi Josephine,\n",
      "\n",
      "\n",
      "We've got some great deals for you. Check our website!\n",
      "\n",
      "\n",
      "To:      art@venere.org\n",
      "From:    noreply@deals.com\n",
      "\n",
      "Subject: Deals!\n",
      "\n",
      "\n",
      "\n",
      "Hi Art,\n",
      "\n",
      "\n",
      "We've got some great deals for you. Check our website!\n",
      "\n",
      "\n"
     ]
    }
   ],
   "source": [
    "### CODE HERE ###\n",
    "import csv\n",
    "\n",
    "emails = []\n",
    "template = []\n",
    "\n",
    "with open(\"email.csv\", newline=\"\") as emailFile:\n",
    "    reader = csv.reader(emailFile)\n",
    "    for row in reader:\n",
    "        emails.append(row)\n",
    "\n",
    "with open(\"email_template.txt\", \"r\") as templateFile:\n",
    "    for line in templateFile:\n",
    "        line = line.split('{')\n",
    "        template.append(line)\n",
    "\n",
    "for i in emails:\n",
    "    template[0][1] = i[2].lower() + '\\n'\n",
    "    template[4][1] = i[0].capitalize() + ',\\n'\n",
    "    \n",
    "    for i in template:\n",
    "        if len(i) > 1:\n",
    "            for j in i:\n",
    "                print(j, end=\"\")\n",
    "        else:\n",
    "            print(i[0])\n",
    "\n",
    "    print('\\n')"
   ]
  },
  {
   "cell_type": "markdown",
   "metadata": {},
   "source": [
    "## 10.2 Pig Latin Translator\n",
    "\n",
    "Create a program that translates English to Pig Latin.\n",
    "\n",
    "### Console:\n",
    "```powershell\n",
    "Pig Latin Translator\n",
    "\n",
    "Enter text: Tis but a scratch. \n",
    "English:\ttis but a scratch\n",
    "Pig Latin:\tistay utbay away atchscray \n",
    "\n",
    "Continue? (y/n): y\n",
    "\n",
    "Enter text: We are the knights who say nee!\n",
    "English:\twe are the knights who say nee\n",
    "Pig Latin:\teway areway ethay ightsknay owhay aysay eenay \n",
    "\n",
    "Continue? (y/n): n\n",
    "\n",
    "Bye!\n",
    "```\n",
    "\n",
    "### Specifications:\n",
    "- Convert the English to lowercase before translating.\n",
    "- Remove the following punctuation characters before translating `! , ; : - . ?`\n",
    "- Assume that words are separated from each other by a single space.\n",
    "- If the word starts with a vowel, just add *way* to the end of the word.\n",
    "- If the word starts with a consonant, move all of the consonants that appear before the first vowel to the end of the word, then add *ay* to the end of the word.\n",
    "\n",
    "### Note:\n",
    "- There are no official rules for Pig Latin. Most people agree on how words that begin with consonants are translated, but there are many different ways to handle words that begin with vowels.\n"
   ]
  },
  {
   "cell_type": "code",
   "execution_count": 33,
   "metadata": {},
   "outputs": [
    {
     "name": "stdin",
     "output_type": "stream",
     "text": [
      "\n",
      "Enter text:  We are the knights who say nee!\n"
     ]
    },
    {
     "name": "stdout",
     "output_type": "stream",
     "text": [
      "English:\t we are the knights who say nee\n",
      "Pig Latin:\teway areway ethay ightsknay owhay aysay eenay "
     ]
    },
    {
     "name": "stdin",
     "output_type": "stream",
     "text": [
      "\n",
      "Continue? (y/n):  y\n",
      "\n",
      "Enter text:  this, is. pig? latin;\n"
     ]
    },
    {
     "name": "stdout",
     "output_type": "stream",
     "text": [
      "English:\t this is pig latin\n",
      "Pig Latin:\tisthay isway igpay atinlay "
     ]
    },
    {
     "name": "stdin",
     "output_type": "stream",
     "text": [
      "\n",
      "Continue? (y/n):  n\n"
     ]
    },
    {
     "name": "stdout",
     "output_type": "stream",
     "text": [
      "\n",
      "Bye!\n"
     ]
    }
   ],
   "source": [
    "### CODE HERE ###\n",
    "import string\n",
    "\n",
    "while True:\n",
    "    splitText = []\n",
    "    endText = []\n",
    "    vowel = \"aeiou\"\n",
    "    toTranslate = input(\"\\nEnter text: \").lower()\n",
    "\n",
    "    toTranslate = toTranslate.replace('!', \"\")\n",
    "    toTranslate = toTranslate.replace(',', \"\")\n",
    "    toTranslate = toTranslate.replace(';', \"\")\n",
    "    toTranslate = toTranslate.replace(':', \"\")\n",
    "    toTranslate = toTranslate.replace('-', \"\")\n",
    "    toTranslate = toTranslate.replace('.', \"\")\n",
    "    toTranslate = toTranslate.replace('?', \"\")\n",
    "    \n",
    "    splitText = toTranslate.split()\n",
    "    \n",
    "    for i in splitText:\n",
    "        if i[0] in vowel:\n",
    "            endText.append(i + \"way\")\n",
    "        else:\n",
    "            for char in i:\n",
    "                if char in vowel:\n",
    "                    temp = i.find(char)\n",
    "                    break\n",
    "                \n",
    "            endText.append(i[temp:] + i[:temp] + \"ay\")\n",
    "    \n",
    "    print(\"English:\\t\", toTranslate)\n",
    "    print(\"Pig Latin:\", end=\"\\t\")\n",
    "    for i in endText:\n",
    "        print(i, end=\" \")\n",
    "\n",
    "    while True:\n",
    "        cont = input(\"\\nContinue? (y/n): \").lower()\n",
    "        if cont not in ('y', 'n'):\n",
    "            print(\"Invalid option.\")\n",
    "        else:\n",
    "            break\n",
    "\n",
    "    if cont == \"n\":\n",
    "        print(\"\\nBye!\")\n",
    "        break"
   ]
  },
  {
   "cell_type": "code",
   "execution_count": null,
   "metadata": {},
   "outputs": [],
   "source": []
  }
 ],
 "metadata": {
  "kernelspec": {
   "display_name": "Python [conda env:base] *",
   "language": "python",
   "name": "conda-base-py"
  },
  "language_info": {
   "codemirror_mode": {
    "name": "ipython",
    "version": 3
   },
   "file_extension": ".py",
   "mimetype": "text/x-python",
   "name": "python",
   "nbconvert_exporter": "python",
   "pygments_lexer": "ipython3",
   "version": "3.12.7"
  }
 },
 "nbformat": 4,
 "nbformat_minor": 4
}
