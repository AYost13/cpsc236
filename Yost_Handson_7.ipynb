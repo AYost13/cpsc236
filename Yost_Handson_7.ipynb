{
 "cells": [
  {
   "cell_type": "markdown",
   "metadata": {},
   "source": [
    "# Exceptions\n",
    "\n",
    "To submit this assignment in D2l, post the link to your notebook file on your GitHub account."
   ]
  },
  {
   "cell_type": "markdown",
   "metadata": {},
   "source": [
    "## 8.1 Tip Calculator\n",
    "Add exception handling to a Tip Calculator program.\n",
    "\n",
    "### Console:\n",
    "```powershell\n",
    "Tip Calculator\n",
    "\n",
    "INPUT\n",
    "Cost of meal: ten\n",
    "Must be valid decimal number. Please try again. \n",
    "Cost of meal: -10\n",
    "Must be greater than 0. Please try again. \n",
    "Cost of meal: 52.31\n",
    "Tip percent:\t17.5\n",
    "Must be valid integer. Please try again. \n",
    "Tip percent:\t20\n",
    "\n",
    "OUTPUT\n",
    "Cost of meal:   52.31 \n",
    "Tip percent:    20%\n",
    "Tip amount:     10.46\n",
    "Total amount:   62.77\n",
    "```\n",
    "\n",
    "### Specifications:\n",
    "- The program should accept **decimal** entries like 52.31 and 15.5 for the cost of the meal.\n",
    "- The program should accept **integer** entries like 15, 20, 25 for the tip percent.\n",
    "- The program should validate both user entries. That way, the user can’t crash the program by entering invalid data.\n",
    "- The program should only accept numbers that are **greater than 0**.\n",
    "- The program should round results to a maximum of two decimal places.\n"
   ]
  },
  {
   "cell_type": "code",
   "execution_count": 11,
   "metadata": {},
   "outputs": [
    {
     "name": "stdin",
     "output_type": "stream",
     "text": [
      "Cost of meal:  -4\n"
     ]
    },
    {
     "name": "stdout",
     "output_type": "stream",
     "text": [
      "Must be greater than 0. Please try again.\n"
     ]
    },
    {
     "name": "stdin",
     "output_type": "stream",
     "text": [
      "Cost of meal:  60\n",
      "Tip percent:  10\n"
     ]
    },
    {
     "name": "stdout",
     "output_type": "stream",
     "text": [
      "\n",
      "Cost of meal: 60.0 \n",
      "Tip percent: 10% \n",
      "Tip amount 6.0 \n",
      "Total amount 70.0\n"
     ]
    }
   ],
   "source": [
    "### CODE HERE ###\n",
    "cost = 0.0\n",
    "tip = 0\n",
    "\n",
    "while cost == 0:\n",
    "    try:\n",
    "        cost = float(input(\"Cost of meal: \"))\n",
    "        if cost < 0:\n",
    "            print(\"Must be greater than 0. Please try again.\")\n",
    "            cost = 0\n",
    "    except ValueError:\n",
    "        print(\"Must be valid decimal number. Pleaase try again.\")\n",
    "\n",
    "while tip == 0:\n",
    "    try:\n",
    "        tip = int(input(\"Tip percent: \"))\n",
    "        if tip < 0:\n",
    "            print(\"Must be greater than 0. Please try again.\")\n",
    "            tip = 0\n",
    "    except ValueError:\n",
    "        print(\"Must be valid integer. Please try again.\")\n",
    "\n",
    "tipAmount = cost / tip\n",
    "\n",
    "print(\"\\nCost of meal:\", cost, \"\\nTip percent:\", str(tip) + \"%\", \"\\nTip amount\", tipAmount, \"\\nTotal amount\", round((cost + tip), 2))"
   ]
  },
  {
   "cell_type": "markdown",
   "metadata": {},
   "source": [
    "## 8.2 Wizard Inventory\n",
    "\n",
    "Add exception handling to a program that keeps track of the inventory of items that a wizard can carry. If you still have Wizard Inventory from Handson_5, you can add the exception handling to that program. Otherwise, you can start this program from scratch.\n",
    "\n",
    "### Console if the program can't find the **inventory** file:\n",
    "```powershell\n",
    "The Wizard Inventory program\n",
    "\n",
    "COMMAND MENU\n",
    "walk - Walk down the path \n",
    "show - Show all items \n",
    "drop - Drop an item\n",
    "exit - Exit program\n",
    "\n",
    "Could not find inventory file!\n",
    "Wizard is starting with no inventory.\n",
    "\n",
    "Command: walk\n",
    "While walking down a path, you see a crossbow.\n",
    "Do you want to grab it? (y/n): y\n",
    "You picked up a crossbow.\n",
    "\n",
    "Command: show\n",
    "1. a crossbow\n",
    "\n",
    "Command: drop Number: x\n",
    "Invalid item number.\n",
    "```\n",
    "\n",
    "### The error message if the program can’t find the **items** file:\n",
    "```powershell\n",
    "Could not find items file.\t\n",
    "Exiting program. Bye!\t\n",
    "```\n",
    "\n",
    "### Specifications:\n",
    "- This program should read the text file named `wizard_all_items.txt` that contains all the items a wizard can carry.\n",
    "- When the user selects the walk command, the program should randomly pick one of the items that were read from the text file and give the user the option to grab it.\n",
    "- The current items that the wizard is carrying should be saved in an inventory file. Make sure to update this file every time the user grabs or drops an item.\n",
    "- The wizard can only carry four items at a time. For the drop command, display an error message if the user enters an invalid integer or an integer that doesn’t correspond with an item.\n",
    "- Handle all exceptions that might occur so that the user can’t cause the program to crash. If the all items file is missing, display an appropriate error message and exit the program.\n",
    "- If the inventory file is missing, display an appropriate error message and continue with an empty inventory for the user. That way, the program will write a new inventory file when the user adds items to the inventory."
   ]
  },
  {
   "cell_type": "code",
   "execution_count": null,
   "metadata": {},
   "outputs": [
    {
     "name": "stdout",
     "output_type": "stream",
     "text": [
      "\n",
      "walk - Walk down the path \n",
      "show - Show all items \n",
      "drop - Drop an item \n",
      "exit - Exit program\n"
     ]
    },
    {
     "name": "stdin",
     "output_type": "stream",
     "text": [
      "\n",
      "Command:  show\n"
     ]
    },
    {
     "name": "stdout",
     "output_type": "stream",
     "text": [
      "1.\t a wizard hat\n",
      "2.\t a scroll of uncursing\n",
      "3.\t a cloak of invisibility\n",
      "4.\t a crossbow\n"
     ]
    }
   ],
   "source": [
    "### CODE HERE ###\n",
    "import random\n",
    "import sys\n",
    "\n",
    "def initInv():\n",
    "    wizardItems = []\n",
    "\n",
    "    try:\n",
    "        with open(\"wizard_all_items.txt\", \"r\", newline=\"\") as items:\n",
    "            for line in items:\n",
    "                line = line.replace(\"\\n\", \"\")\n",
    "                wizardItems.append(line)\n",
    "    except FileNotFoundError:\n",
    "        print(\"Item file not found.\")\n",
    "        sys.exit()\n",
    "    return wizardItems\n",
    "\n",
    "def checkInv():\n",
    "    wizardInv = []\n",
    "\n",
    "    try:\n",
    "        with open(\"wizard_inventory.txt\", \"r\", newline=\"\") as inv:\n",
    "            for line in inv:\n",
    "                line = line.replace(\"\\n\", \"\")\n",
    "                wizardInv.append(line)\n",
    "    except FileNotFoundError:\n",
    "        print(\"Inventory file not found.\")\n",
    "        return \"none\"\n",
    "    return wizardInv\n",
    "\n",
    "def walk():\n",
    "    wizardItems = initInv()\n",
    "    randomNum = random.randint(0, 8)\n",
    "    wizardInv = checkInv()\n",
    "    if wizardInv == \"none\":\n",
    "        print(\"Continuing with empty inventory.\")\n",
    "        wizardInv = []\n",
    "\n",
    "    print(\"While walking down the path, you see\", wizardItems[randomNum], end=\"\")\n",
    "    ans = input(\"Would you like to grab it? (y/n)\")\n",
    "        \n",
    "    if ans.lower() == \"y\":\n",
    "        if len(wizardInv) >= 4:\n",
    "            print(\"You can't carry any more items. Drop something first.\")\n",
    "        else:\n",
    "            with open(\"wizard_inventory.txt\", \"a\") as inv:\n",
    "                inv.write(wizardItems[randomNum] + \"\\n\")\n",
    "            print(\"You picked up\", wizardItems[randomNum])\n",
    "    elif ans.lower() == \"n\":\n",
    "        print(\"You do not pick up the item.\")\n",
    "    else:\n",
    "        print(\"Invalid option.\")\n",
    "\n",
    "def drop():\n",
    "    wizardInv = checkInv()\n",
    "    if wizardInv == \"none\":\n",
    "        print(\"Cannot drop items from empty inventory.\")\n",
    "        return\n",
    "        \n",
    "    try:\n",
    "        toDrop = int(input(\"Item number: \"))\n",
    "        if toDrop == 0 or toDrop > len(wizardInv):\n",
    "            print(\"Out of range.\")\n",
    "        else:\n",
    "            toDrop-=1\n",
    "            tempItem = wizardInv.pop(toDrop)\n",
    "            print(\"You dropped\", tempItem + \".\")\n",
    "\n",
    "            with open(\"wizard_inventory.txt\", \"w\") as inv:\n",
    "                for item in wizardInv:\n",
    "                    inv.write(item)\n",
    "    except ValueError:\n",
    "        print(\"Invalid integer.\")\n",
    "\n",
    "def show():\n",
    "    wizardInv = checkInv()\n",
    "    if wizardInv == \"none\":\n",
    "        return\n",
    "    elif len(wizardInv) == 0:\n",
    "        print(\"Your inventory is empty.\")\n",
    "        return\n",
    "    \n",
    "    x = 1\n",
    "    for i in wizardInv:\n",
    "        print(str(x) + \".\\t\", i)\n",
    "        x+=1\n",
    "\n",
    "def menu():\n",
    "    print(\"\\nwalk - Walk down the path \\nshow - Show all items \\ndrop - Drop an item \\nexit - Exit program\")\n",
    "\n",
    "def main():\n",
    "    menu()\n",
    "\n",
    "    while True:\n",
    "        option = input(\"\\nCommand: \")\n",
    "        if option.lower() == \"exit\":\n",
    "            break\n",
    "        elif option.lower() == \"walk\":\n",
    "            walk()\n",
    "        elif option.lower() == \"drop\":\n",
    "            drop()\n",
    "        elif option.lower() == \"show\":\n",
    "            show()\n",
    "        else:\n",
    "            print(\"Invalid option.\")\n",
    "\n",
    "if __name__ == \"__main__\":\n",
    "    main()"
   ]
  },
  {
   "cell_type": "code",
   "execution_count": null,
   "metadata": {},
   "outputs": [],
   "source": []
  }
 ],
 "metadata": {
  "kernelspec": {
   "display_name": "Python [conda env:base] *",
   "language": "python",
   "name": "conda-base-py"
  },
  "language_info": {
   "codemirror_mode": {
    "name": "ipython",
    "version": 3
   },
   "file_extension": ".py",
   "mimetype": "text/x-python",
   "name": "python",
   "nbconvert_exporter": "python",
   "pygments_lexer": "ipython3",
   "version": "3.12.7"
  }
 },
 "nbformat": 4,
 "nbformat_minor": 4
}
