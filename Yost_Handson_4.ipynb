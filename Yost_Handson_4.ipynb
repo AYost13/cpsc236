{
 "cells": [
  {
   "cell_type": "markdown",
   "metadata": {},
   "source": [
    "# List and Tuples\n",
    "\n",
    "To submit this assignment in D2l, post the link to your notebook file on your GitHub account."
   ]
  },
  {
   "cell_type": "markdown",
   "metadata": {},
   "source": [
    "## 6.1 Prime Number Checker\n",
    "Create a program that checks whether a number is a prime number and displays its factors if it is not a prime number.\n",
    "\n",
    "### Console:\n",
    "```powershell\n",
    "Prime Number Checker\n",
    "\n",
    "Please enter an integer between 1 and 5000: 5\n",
    "5 is a prime number.\n",
    "\n",
    "Try again? (y/n): y\n",
    "\n",
    "Please enter an integer between 1 and 5000: 6\n",
    "6 is NOT a prime number.\n",
    "It has 4 factors: 1 2 3 6\n",
    "\n",
    "Try again? (y/n): y\n",
    "\n",
    "Please enter an integer between 1 and 5000: 200\n",
    "200 is NOT a prime number.\n",
    "It has 12 factors: 1 2 4 5 8 10 20 25 40 50 100 200\n",
    "\n",
    "Try again? (y/n): n\n",
    "\n",
    "Bye!\n",
    "```\n",
    "\n",
    "### Specifications:\n",
    "- A prime number is divisible by two factors (1 and itself). For example, 7 is a prime number because it is only divisible by 1 and 7.\n",
    "- If the user enters an integer that's not between 1 and 5000, the program should display an error message.\n",
    "- If the number is a prime number, the program should display a message.\n",
    "If the number is not a prime number, the program should display a message. Then, it should display the number of factors for the number and a list of those factors.\n",
    "- Store the factors for each number in a list.\n",
    "- Use functions to organize the code for this program.\n"
   ]
  },
  {
   "cell_type": "code",
   "execution_count": 13,
   "metadata": {},
   "outputs": [
    {
     "name": "stdin",
     "output_type": "stream",
     "text": [
      "\n",
      "Please enter an integer between 1 and 5000:  5\n"
     ]
    },
    {
     "name": "stdout",
     "output_type": "stream",
     "text": [
      "5 is a prime number.\n"
     ]
    },
    {
     "name": "stdin",
     "output_type": "stream",
     "text": [
      "\n",
      "Try again? (y/n) y\n",
      "\n",
      "Please enter an integer between 1 and 5000:  6\n"
     ]
    },
    {
     "name": "stdout",
     "output_type": "stream",
     "text": [
      "6 is NOT a prime number. \n",
      "It has 4 factors: 1 2 3 6 "
     ]
    },
    {
     "name": "stdin",
     "output_type": "stream",
     "text": [
      "\n",
      "Try again? (y/n) y\n",
      "\n",
      "Please enter an integer between 1 and 5000:  200\n"
     ]
    },
    {
     "name": "stdout",
     "output_type": "stream",
     "text": [
      "200 is NOT a prime number. \n",
      "It has 12 factors: 1 2 4 5 8 10 20 25 40 50 100 200 "
     ]
    },
    {
     "name": "stdin",
     "output_type": "stream",
     "text": [
      "\n",
      "Try again? (y/n) n\n"
     ]
    },
    {
     "name": "stdout",
     "output_type": "stream",
     "text": [
      "\n",
      "Bye!\n"
     ]
    }
   ],
   "source": [
    "### CODE HERE ###\n",
    "def primeCheck(x):\n",
    "    factors = []\n",
    "    ifPrime = 0\n",
    "\n",
    "    for i in range(1, x+1):\n",
    "        if x % i == 0:\n",
    "            factors.append(i)\n",
    "            ifPrime+=1\n",
    "    return factors, ifPrime\n",
    "\n",
    "def main():\n",
    "    cont = \"y\"\n",
    "    factors = [0]\n",
    "    ifPrime = 0\n",
    "    \n",
    "    while cont.lower() == \"y\":\n",
    "        x = int(input(\"\\nPlease enter an integer between 1 and 5000: \"))\n",
    "        if x > 5000 or x < 1:\n",
    "            print(\"Invalid integer.\")\n",
    "        else:\n",
    "            factors, ifPrime = primeCheck(x)\n",
    "        \n",
    "        if ifPrime > 2:\n",
    "            print(x, \"is NOT a prime number. \\nIt has\", len(factors), \"factors:\", end=\" \")\n",
    "            for i in factors:\n",
    "                print(i, end=\" \")\n",
    "        elif ifPrime == 2:\n",
    "            print(x, \"is a prime number.\")\n",
    "    \n",
    "        cont = input(\"\\nTry again? (y/n)\")\n",
    "    print(\"\\nBye!\")\n",
    "\n",
    "if __name__ == \"__main__\":\n",
    "    main()"
   ]
  },
  {
   "cell_type": "markdown",
   "metadata": {},
   "source": [
    "## 6.2 - Contact Manager\n",
    "Create a program that a user can use to manage the primary email address and phone number for a contact.\n",
    "\n",
    "### Console\n",
    "```powershell\n",
    "Contact Manager\n",
    "\n",
    "COMMAND MENU\n",
    "list - Display all contacts\n",
    "view - View a contact\n",
    "add - Add a contact\n",
    "del - Delete a contact\n",
    "exit - Exit program\n",
    "\n",
    "Command: list\n",
    "1. Guido van Rossum\n",
    "2. Eric Idle\n",
    "\n",
    "Command: view\n",
    "Number: 2\n",
    "Name: Eric Idle\n",
    "Email: eric@ericidle.com\n",
    "Phone: +44 20 7946 0958\n",
    "\n",
    "Command: add\n",
    "Name: Mike Murach\n",
    "Email: mike@murach.com\n",
    "Phone: 559-123-4567\n",
    "Mike Murach was added.\n",
    "\n",
    "Command: del\n",
    "Number: 1\n",
    "Guido van Rossum was deleted.\n",
    "\n",
    "Command: list\n",
    "1. Eric Idle\n",
    "2. Mike Murach\n",
    "\n",
    "Command: exit\n",
    "Bye!\n",
    "```\n",
    "\n",
    "### Specifications:\n",
    "- Use a list of lists to store the data for the contacts. Provide starting data for two or more contacts.\n",
    "- For the `view` and `del` commands, display an error message if the user enters and invalid contact number.\n",
    "- When you exit the program, all changes that you made to the contact list are lost.\n",
    "\n",
    "\n"
   ]
  },
  {
   "cell_type": "code",
   "execution_count": 29,
   "metadata": {},
   "outputs": [
    {
     "name": "stdout",
     "output_type": "stream",
     "text": [
      "\n",
      "COMMAND MENU \n",
      "list - Display all contacts \n",
      "view - View a contact     \n",
      "add - Add a contact \n",
      "del - Delete a contact \n",
      "exit - Exit program\n"
     ]
    },
    {
     "name": "stdin",
     "output_type": "stream",
     "text": [
      "\n",
      "Command: list\n"
     ]
    },
    {
     "name": "stdout",
     "output_type": "stream",
     "text": [
      "1. Guido van Rossum\n",
      "2. Eric Idle\n",
      "\n",
      "COMMAND MENU \n",
      "list - Display all contacts \n",
      "view - View a contact     \n",
      "add - Add a contact \n",
      "del - Delete a contact \n",
      "exit - Exit program\n"
     ]
    },
    {
     "name": "stdin",
     "output_type": "stream",
     "text": [
      "\n",
      "Command: view\n",
      "Number: 2\n"
     ]
    },
    {
     "name": "stdout",
     "output_type": "stream",
     "text": [
      "Name: Eric Idle \n",
      "Email: eric@idle.com \n",
      "Phone: 44-20-7946-0958\n",
      "\n",
      "COMMAND MENU \n",
      "list - Display all contacts \n",
      "view - View a contact     \n",
      "add - Add a contact \n",
      "del - Delete a contact \n",
      "exit - Exit program\n"
     ]
    },
    {
     "name": "stdin",
     "output_type": "stream",
     "text": [
      "\n",
      "Command: add\n",
      "Name: Mike M\n",
      "Email: mike@email\n",
      "Phone: 123\n"
     ]
    },
    {
     "name": "stdout",
     "output_type": "stream",
     "text": [
      "Mike M was added.\n",
      "\n",
      "COMMAND MENU \n",
      "list - Display all contacts \n",
      "view - View a contact     \n",
      "add - Add a contact \n",
      "del - Delete a contact \n",
      "exit - Exit program\n"
     ]
    },
    {
     "name": "stdin",
     "output_type": "stream",
     "text": [
      "\n",
      "Command: list\n"
     ]
    },
    {
     "name": "stdout",
     "output_type": "stream",
     "text": [
      "1. Guido van Rossum\n",
      "2. Eric Idle\n",
      "3. Mike M\n",
      "\n",
      "COMMAND MENU \n",
      "list - Display all contacts \n",
      "view - View a contact     \n",
      "add - Add a contact \n",
      "del - Delete a contact \n",
      "exit - Exit program\n"
     ]
    },
    {
     "name": "stdin",
     "output_type": "stream",
     "text": [
      "\n",
      "Command: del\n",
      "Number:  1\n"
     ]
    },
    {
     "name": "stdout",
     "output_type": "stream",
     "text": [
      "Guido van Rossum was deleted.\n",
      "\n",
      "COMMAND MENU \n",
      "list - Display all contacts \n",
      "view - View a contact     \n",
      "add - Add a contact \n",
      "del - Delete a contact \n",
      "exit - Exit program\n"
     ]
    },
    {
     "name": "stdin",
     "output_type": "stream",
     "text": [
      "\n",
      "Command: list\n"
     ]
    },
    {
     "name": "stdout",
     "output_type": "stream",
     "text": [
      "1. Eric Idle\n",
      "2. Mike M\n",
      "\n",
      "COMMAND MENU \n",
      "list - Display all contacts \n",
      "view - View a contact     \n",
      "add - Add a contact \n",
      "del - Delete a contact \n",
      "exit - Exit program\n"
     ]
    },
    {
     "name": "stdin",
     "output_type": "stream",
     "text": [
      "\n",
      "Command: exit\n"
     ]
    },
    {
     "name": "stdout",
     "output_type": "stream",
     "text": [
      "Bye!\n"
     ]
    }
   ],
   "source": [
    "### CODE HERE ###\n",
    "def menu():\n",
    "    print(\"\\nCOMMAND MENU \\nlist - Display all contacts \\nview - View a contact \\\n",
    "    \\nadd - Add a contact \\ndel - Delete a contact \\nexit - Exit program\")\n",
    "    option = input(\"\\nCommand:\")\n",
    "    return option\n",
    "\n",
    "def initializeList():\n",
    "    contactList = [[\"Guido van Rossum\", \"guido@rossum.com\", \"559-123-4567\"], [\"Eric Idle\", \"eric@idle.com\", \"44-20-7946-0958\"]]\n",
    "    return contactList\n",
    "\n",
    "def main():\n",
    "    contactList = initializeList()\n",
    "    cont = 1\n",
    "\n",
    "    while cont == 1:\n",
    "        option = menu()\n",
    "        if option.lower() == \"list\":\n",
    "            i = 1\n",
    "            for row in contactList:\n",
    "                print(str(i) + \".\", row[0])\n",
    "                i+=1\n",
    "        elif option.lower() == \"view\":\n",
    "            index = int(input(\"Number:\"))\n",
    "            index-=1\n",
    "            if index > len(contactList) or index < 0:\n",
    "                print(\"Index outside of list.\")\n",
    "            else:\n",
    "                print(\"Name:\", contactList[index][0], \"\\nEmail:\", contactList[index][1], \"\\nPhone:\", contactList[index][2])\n",
    "        elif option.lower() == \"add\":\n",
    "            name = input(\"Name:\")\n",
    "            email = input(\"Email:\")\n",
    "            phone = input(\"Phone:\")\n",
    "            tempList = [name, email, phone]\n",
    "            contactList.append(tempList)\n",
    "            print(name, \"was added.\")\n",
    "        elif option.lower() == \"del\" or option.lower() == \"delete\":\n",
    "            index = int(input(\"Number: \"))\n",
    "            index-=1\n",
    "            if index > len(contactList) or index < 0:\n",
    "                print(\"Index outside of list.\")\n",
    "            else:\n",
    "                name = contactList[index][0]\n",
    "                contactList.pop(index)\n",
    "                print(name, \"was deleted.\")\n",
    "        elif option.lower() == \"exit\":\n",
    "            print(\"Bye!\")\n",
    "            cont = 0\n",
    "        else:\n",
    "            print(\"Invalid option entered.\")\n",
    "\n",
    "if __name__ == \"__main__\":\n",
    "    main()"
   ]
  },
  {
   "cell_type": "code",
   "execution_count": null,
   "metadata": {},
   "outputs": [],
   "source": []
  }
 ],
 "metadata": {
  "kernelspec": {
   "display_name": "Python [conda env:base] *",
   "language": "python",
   "name": "conda-base-py"
  },
  "language_info": {
   "codemirror_mode": {
    "name": "ipython",
    "version": 3
   },
   "file_extension": ".py",
   "mimetype": "text/x-python",
   "name": "python",
   "nbconvert_exporter": "python",
   "pygments_lexer": "ipython3",
   "version": "3.12.7"
  }
 },
 "nbformat": 4,
 "nbformat_minor": 4
}
