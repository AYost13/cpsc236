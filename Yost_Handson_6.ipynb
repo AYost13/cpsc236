{
 "cells": [
  {
   "cell_type": "markdown",
   "metadata": {},
   "source": [
    "# Dictionaries\n",
    "\n",
    "To submit this assignment in D2l, post the link to your notebook file on your GitHub account."
   ]
  },
  {
   "cell_type": "markdown",
   "metadata": {},
   "source": [
    "## 12.1 Champion Counter\n",
    "Create a program that reads a text file that contains a list of FIFA World Cup champions and determines the country that has won the most championships.\n",
    "\n",
    "### Console:\n",
    "```powershell\n",
    "Country\t        Wins\tYears\t\n",
    "=======\t        ====\t=====\t\n",
    "Argentina       2       1978, 1986\n",
    "Brazil\t        5       1958, 1962, 1970, 1994, 2002\n",
    "England\t        1       1966\t\t\n",
    "France\t        1       1998\t\t\n",
    "Germany\t        4       1954, 1974, 1990, 2014\n",
    "Italy\t        4       1934, 1938, 1982, 2006\n",
    "Spain\t        1       2010\n",
    "Uruguay\t        2       1930, 1950\n",
    "```\n",
    "\n",
    "### Specifications:\n",
    "- Use the attached text file named `world_cup_champions.txt` that contains data like this: \n",
    "```powershell\n",
    "Year,Country,Coach,Captain \n",
    "1930,Uruguay,Alberto Suppici,José Nasazzi \n",
    "1934,Italy,Vittorio Pozzo,Gianpiero Combi \n",
    "1938,Italy,Vittorio Pozzo,Giuseppe Meazza\n",
    "...\n",
    "```\n",
    "- When the program starts, it should read the text file and use a dictionary to store the required data using the name of each country that has won the World Cup as the key.\n",
    "- The program should compile the data shown above and display the countries alphabetically.\n",
    "\n"
   ]
  },
  {
   "cell_type": "code",
   "execution_count": 194,
   "metadata": {},
   "outputs": [
    {
     "name": "stdout",
     "output_type": "stream",
     "text": [
      "Country \tWins \tYears            \n",
      "======= \t==== \t=====\n",
      "Argentina\t2\t1978, 1986\n",
      "Brazil\t\t5\t1958, 1962, 1970, 1994, 2002\n",
      "England\t\t1\t1966\n",
      "France\t\t1\t1998\n",
      "Germany\t\t4\t1954, 1974, 1990, 2014\n",
      "Italy\t\t4\t1934, 1938, 1982, 2006\n",
      "Spain\t\t1\t2010\n",
      "Uruguay\t\t2\t1930, 1950\n"
     ]
    }
   ],
   "source": [
    "### CODE HERE ###\n",
    "countries = {\"Country\": {\"wins\":0, \"years\":0}}\n",
    "splitText=[]\n",
    "splitYear=[]\n",
    "keyList=[]\n",
    "\n",
    "with open('world_cup_champions.txt', 'r') as inFile:\n",
    "    temp=inFile.read()\n",
    "    temp.replace('\\n',',')\n",
    "    splitText=temp.split(',')\n",
    "\n",
    "    for i in range(4, len(splitText), 3):\n",
    "        if splitText[i] in countries:\n",
    "            tempYear = splitText[i-1]\n",
    "            splitYear = tempYear.split('\\n')\n",
    "\n",
    "            countries[splitText[i]][\"wins\"] += 1\n",
    "            updateYear = countries[splitText[i]][\"years\"]\n",
    "            updateYear = updateYear + \", \" + splitYear[1]\n",
    "            countries[splitText[i]][\"years\"] = updateYear\n",
    "        else:\n",
    "            tempYear = splitText[i-1]\n",
    "            splitYear = tempYear.split('\\n')\n",
    "            \n",
    "            tempDict = {\"wins\":1, \"years\":splitYear[1]}\n",
    "            countries[splitText[i]] = tempDict\n",
    "\n",
    "    for i in countries:\n",
    "        keyList.append(i)\n",
    "\n",
    "    keyList.sort()\n",
    "\n",
    "    print(\"Country \\tWins \\tYears \\\n",
    "           \\n======= \\t==== \\t=====\")\n",
    "    \n",
    "    for i in keyList:\n",
    "        for x in countries:\n",
    "            if i == 'Country':\n",
    "                pass\n",
    "            elif i == x:\n",
    "                if x == 'Argentina':\n",
    "                    print(i + '\\t' + str(countries[x]['wins']) + '\\t' + str(countries[x]['years']))\n",
    "                else:\n",
    "                    print(i + '\\t\\t' + str(countries[x]['wins']) + '\\t' + str(countries[x]['years']))\n",
    "            "
   ]
  },
  {
   "cell_type": "markdown",
   "metadata": {},
   "source": [
    "## 12.2 Monthly Sales\n",
    "Create a program that allows you to view and edit the sales amounts for each month of the current year.\n",
    "\n",
    "### Console:\n",
    "```powershell\n",
    "Monthly Sales program\n",
    "\n",
    "COMMAND MENU\n",
    "view\t- View sales for specified month \n",
    "edit\t- Edit sales for specified month \n",
    "totals - View sales summary for year \n",
    "exit\t- Exit program\n",
    "\n",
    "Command: view\n",
    "Three-letter Month: jan\n",
    "Sales amount for Jan is 14,317.00.\n",
    "\n",
    "Command: edit\n",
    "Three-letter Month: jan \n",
    "Sales Amount: 15293\n",
    "Sales amount for Jan is 15,293.00.\n",
    "\n",
    "Command: totals\n",
    "Yearly total: 67,855.00\n",
    "Monthly average: 5,654.58\n",
    "\n",
    "Command: view\n",
    "Three-letter Month: july \n",
    "Invalid three-letter month.\n",
    "\n",
    "Command: exit Bye!\n",
    "```\n",
    "\n",
    "### Specifications:\n",
    "- Use the attached text file named `monthly_sales.txt` that consists of rows that contain three-letter abbreviations for the month and the monthly sales.\n",
    "- The program should read the file and store the sales data for each month in a dictionary with the month abbreviation as the key for each item.\n",
    "- Whenever the sales data is edited, the program should write the changed data to the text file.\n",
    "\n",
    "\n"
   ]
  },
  {
   "cell_type": "code",
   "execution_count": 68,
   "metadata": {},
   "outputs": [
    {
     "name": "stdout",
     "output_type": "stream",
     "text": [
      "view - View sales for specified month \n",
      "edit - Edit sales for specified month     \n",
      "total - View sales summary for year \n",
      "exit - Exit program\n"
     ]
    },
    {
     "name": "stdin",
     "output_type": "stream",
     "text": [
      "\n",
      "Command:  view\n",
      "Three letter month:  feb\n"
     ]
    },
    {
     "name": "stdout",
     "output_type": "stream",
     "text": [
      "Sales amount for feb is 4176.0.\n"
     ]
    },
    {
     "name": "stdin",
     "output_type": "stream",
     "text": [
      "\n",
      "Command:  edit\n",
      "Three-letter month:  feb\n",
      "Sales amount:  3000\n"
     ]
    },
    {
     "name": "stdout",
     "output_type": "stream",
     "text": [
      "Sales amount for feb is 3000.0.\n"
     ]
    },
    {
     "name": "stdin",
     "output_type": "stream",
     "text": [
      "\n",
      "Command:  view\n",
      "Three letter month:  feb\n"
     ]
    },
    {
     "name": "stdout",
     "output_type": "stream",
     "text": [
      "Sales amount for feb is 3000.0.\n"
     ]
    },
    {
     "name": "stdin",
     "output_type": "stream",
     "text": [
      "\n",
      "Command:  total\n"
     ]
    },
    {
     "name": "stdout",
     "output_type": "stream",
     "text": [
      "Yearly total: 51453.0 \n",
      "Monthly average: 4287.75\n"
     ]
    },
    {
     "name": "stdin",
     "output_type": "stream",
     "text": [
      "\n",
      "Command:  exit\n"
     ]
    }
   ],
   "source": [
    "### CODE HERE ###\n",
    "def menu():\n",
    "    print(\"view - View sales for specified month \\nedit - Edit sales for specified month \\\n",
    "    \\ntotal - View sales summary for year \\nexit - Exit program\")\n",
    "\n",
    "def view():\n",
    "    month = input(\"Three letter month: \")\n",
    "    if len(month) != 3:\n",
    "        print(\"Invalid three-letter month.\")\n",
    "    else:\n",
    "        for i in sales:\n",
    "            if month.lower() == i.lower():\n",
    "                temp = float(sales[i])\n",
    "                print(\"Sales amount for\", i, \"is\", str(temp) + \".\")\n",
    "\n",
    "def edit():\n",
    "    month = input(\"Three-letter month: \")\n",
    "    if len(month) != 3:\n",
    "        print(\"Invalid three-letter month.\")\n",
    "        return\n",
    "    else:\n",
    "        newSale = float(input(\"Sales amount: \"))\n",
    "        for i in sales:\n",
    "            if month.lower() == i.lower():\n",
    "                sales[i] = str(newSale)\n",
    "                print(\"Sales amount for\", i, \"is\", sales[i] + \".\")\n",
    "                \n",
    "                with open(\"monthly_sales.txt\", \"w\") as outFile:\n",
    "                    for i in sales:\n",
    "                        print(i + \"\\t\" + sales[i], file=outFile)\n",
    "\n",
    "def total():\n",
    "    saleSum = 0\n",
    "    for i in sales:\n",
    "        saleSum += float(sales[i])\n",
    "    print(\"Yearly total:\", saleSum, \"\\nMonthly average:\", round(saleSum/12, 2))\n",
    "\n",
    "def main():\n",
    "    sales = {}\n",
    "    with open(\"monthly_sales.txt\", \"r\") as inFile:\n",
    "        temp = inFile.read()\n",
    "        temp = temp.split()\n",
    "        for i in range(0, len(temp), 2):\n",
    "            sales[temp[i]] = temp[i+1]\n",
    "\n",
    "    menu()\n",
    "\n",
    "    while True:\n",
    "        option = input(\"\\nCommand: \")\n",
    "        if option.lower() == \"exit\":\n",
    "            break\n",
    "        elif option.lower() == \"view\":\n",
    "            view()\n",
    "        elif option.lower() == \"edit\":\n",
    "            edit()\n",
    "        elif option.lower() == \"total\" or option.lower() == \"totals\":\n",
    "            total()\n",
    "\n",
    "if __name__ == \"__main__\":\n",
    "    main()"
   ]
  },
  {
   "cell_type": "code",
   "execution_count": null,
   "metadata": {},
   "outputs": [],
   "source": []
  },
  {
   "cell_type": "code",
   "execution_count": null,
   "metadata": {},
   "outputs": [],
   "source": []
  },
  {
   "cell_type": "code",
   "execution_count": null,
   "metadata": {},
   "outputs": [],
   "source": []
  }
 ],
 "metadata": {
  "kernelspec": {
   "display_name": "Python [conda env:base] *",
   "language": "python",
   "name": "conda-base-py"
  },
  "language_info": {
   "codemirror_mode": {
    "name": "ipython",
    "version": 3
   },
   "file_extension": ".py",
   "mimetype": "text/x-python",
   "name": "python",
   "nbconvert_exporter": "python",
   "pygments_lexer": "ipython3",
   "version": "3.12.7"
  }
 },
 "nbformat": 4,
 "nbformat_minor": 4
}
