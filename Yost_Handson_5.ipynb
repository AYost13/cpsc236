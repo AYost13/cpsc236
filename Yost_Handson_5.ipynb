{
 "cells": [
  {
   "cell_type": "markdown",
   "metadata": {},
   "source": [
    "# File Input\n",
    "\n",
    "To submit this assignment in D2l, post the link to your notebook file on your GitHub account."
   ]
  },
  {
   "cell_type": "markdown",
   "metadata": {},
   "source": [
    "## 7.1 Pig Dice Rules\n",
    "Create a program that reads a list of rules from a file and displays them.\n",
    "\n",
    "### Console:\n",
    "```powershell\n",
    "Pig Dice Rules:\n",
    "*\tSee how many turns it takes you to get to 20.\n",
    "*\tTurn ends when player rolls a 1 or chooses to hold.\n",
    "*\tIf you roll a 1, you lose all points earned during the turn.\n",
    "*\tIf you hold, you save all points earned during the turn.\n",
    "```\n",
    "\n",
    "### Specifications:\n",
    "- Use the attached text file named `pig_dice_rules.txt` in the corresponding Directory.\n",
    "- Your program should read the text file and display it on the console.\n"
   ]
  },
  {
   "cell_type": "code",
   "execution_count": 5,
   "metadata": {},
   "outputs": [
    {
     "name": "stdout",
     "output_type": "stream",
     "text": [
      "Pig Dice Rules:\n",
      "* See how many turns it takes you to get to 20.\n",
      "* Turn ends when player rolls a 1 or chooses to hold.\n",
      "* If you roll a 1, you lose all points earned during the turn.\n",
      "* If you hold, you save all points earned during the turn.\n"
     ]
    }
   ],
   "source": [
    "### CODE HERE ###\n",
    "with open(\"pig_dice_rules.txt\", \"r\") as rules: \n",
    "    diceRules = rules.read()\n",
    "    rules.close()\n",
    "print(diceRules)"
   ]
  },
  {
   "cell_type": "markdown",
   "metadata": {},
   "source": [
    "## 7.2 Wizard Inventory\n",
    "Create a program that keeps track of the items that a wizard can carry.\n",
    "\n",
    "### Console:\n",
    "```powershell\n",
    "The Wizard Inventroy Program\n",
    "\n",
    "COMMAND MENU\n",
    "walk - Walk down the path \n",
    "show - Show all items \n",
    "drop - Drop an item\n",
    "exit - Exit program\n",
    "\n",
    "Command: walk\n",
    "While walking down a path, you see a scroll of uncursing. \n",
    "Do you want to grab it? (y/n): y\n",
    "You picked up a scroll of uncursing.\n",
    "\n",
    "Command: walk\n",
    "While walking down a path, you see an unknown potion. \n",
    "Do you want to grab it? (y/n): y\n",
    "You can't carry any more items. Drop something first.\n",
    "\n",
    "Command: show\n",
    "1.\ta wooden staff\n",
    "2.\ta scroll of invisibility\n",
    "3.\ta crossbow\n",
    "4.\ta scroll of uncursing\n",
    "\n",
    "Command: drop Number: 3\n",
    "You dropped a crossbow.\n",
    "\n",
    "Command: exit \n",
    "Bye!\n",
    "```\n",
    "\n",
    "### Specifications:\n",
    "- Use the attached text file named `wizard_all_items.txt` that contains a list of all the items that a wizard can carry. (in the corresponding directory)\n",
    "- When the user selects the walk command, the program should read the items from the file, randomly pick one, and give the user the option to grab it.\n",
    "- Your program should create another file that stores the items that the wizard is carrying (`wizard_inventory.txt`). Make sure to update this file every time the user grabs or drops an item.\n",
    "- The wizard can only carry **four** items at a time.\n",
    "- For the drop command, display an error message if the user enters an invalid number for the item.\n",
    "\n"
   ]
  },
  {
   "cell_type": "code",
   "execution_count": 9,
   "metadata": {},
   "outputs": [
    {
     "name": "stdout",
     "output_type": "stream",
     "text": [
      "\n",
      "walk - Walk down the path \n",
      "show - Show all items \n",
      "drop - Drop an item \n",
      "exit - Exit program\n"
     ]
    },
    {
     "name": "stdin",
     "output_type": "stream",
     "text": [
      "\n",
      "Command:  show\n"
     ]
    },
    {
     "name": "stdout",
     "output_type": "stream",
     "text": [
      "1.\t a wooden staff\n",
      "2.\t a scroll of invisibility\n",
      "3.\t a scroll of uncursing\n"
     ]
    },
    {
     "name": "stdin",
     "output_type": "stream",
     "text": [
      "\n",
      "Command:  walk\n"
     ]
    },
    {
     "name": "stdout",
     "output_type": "stream",
     "text": [
      "While walking down the path, you see a scroll of uncursing"
     ]
    },
    {
     "name": "stdin",
     "output_type": "stream",
     "text": [
      "Would you like to grab it? (y/n) y\n"
     ]
    },
    {
     "name": "stdout",
     "output_type": "stream",
     "text": [
      "You picked up a scroll of uncursing\n"
     ]
    },
    {
     "name": "stdin",
     "output_type": "stream",
     "text": [
      "\n",
      "Command:  walk\n"
     ]
    },
    {
     "name": "stdout",
     "output_type": "stream",
     "text": [
      "While walking down the path, you see a cloak of invisibility"
     ]
    },
    {
     "name": "stdin",
     "output_type": "stream",
     "text": [
      "Would you like to grab it? (y/n) y\n"
     ]
    },
    {
     "name": "stdout",
     "output_type": "stream",
     "text": [
      "You can't carry any more items. Drop something first.\n"
     ]
    },
    {
     "name": "stdin",
     "output_type": "stream",
     "text": [
      "\n",
      "Command:  show\n"
     ]
    },
    {
     "name": "stdout",
     "output_type": "stream",
     "text": [
      "1.\t a wooden staff\n",
      "2.\t a scroll of invisibility\n",
      "3.\t a scroll of uncursing\n",
      "4.\t a scroll of uncursing\n"
     ]
    },
    {
     "name": "stdin",
     "output_type": "stream",
     "text": [
      "\n",
      "Command:  drop\n",
      "Item number:  3\n"
     ]
    },
    {
     "name": "stdout",
     "output_type": "stream",
     "text": [
      "You dropped a scroll of uncursing\n"
     ]
    },
    {
     "name": "stdin",
     "output_type": "stream",
     "text": [
      "\n",
      "Command:  exit\n"
     ]
    }
   ],
   "source": [
    "### CODE HERE ###\n",
    "import random\n",
    "\n",
    "def initInv():\n",
    "    wizardItems = []\n",
    "    \n",
    "    with open(\"wizard_all_items.txt\", \"r\", newline=\"\") as items:\n",
    "        for line in items:\n",
    "            line = line.replace(\"\\n\", \"\")\n",
    "            wizardItems.append(line)\n",
    "    return wizardItems\n",
    "\n",
    "def checkInv():\n",
    "    wizardInv = []\n",
    "    \n",
    "    with open(\"wizard_inventory.txt\", \"r\", newline=\"\") as inv:\n",
    "        for line in inv:\n",
    "            line = line.replace(\"\\n\", \"\")\n",
    "            wizardInv.append(line)\n",
    "    return wizardInv\n",
    "\n",
    "def walk():\n",
    "    wizardItems = initInv()\n",
    "    randomNum = random.randint(1, 9)\n",
    "\n",
    "    wizardInv = checkInv()\n",
    "\n",
    "    print(\"While walking down the path, you see\", wizardItems[randomNum], end=\"\")\n",
    "    ans = input(\"Would you like to grab it? (y/n)\")\n",
    "        \n",
    "    if ans.lower() == \"y\":\n",
    "        if len(wizardInv) >= 4:\n",
    "            print(\"You can't carry any more items. Drop something first.\")\n",
    "        else:\n",
    "            with open(\"wizard_inventory.txt\", \"a\") as inv:\n",
    "                inv.write(wizardItems[randomNum] + \"\\n\")\n",
    "            inv.close()\n",
    "            print(\"You picked up\", wizardItems[randomNum])\n",
    "\n",
    "def drop():\n",
    "    wizardInv = checkInv()\n",
    "\n",
    "    toDrop = int(input(\"Item number: \"))\n",
    "    if toDrop == 0 or toDrop > len(wizardInv):\n",
    "        print(\"Out of range.\")\n",
    "    else:\n",
    "        toDrop-=1\n",
    "        tempItem = wizardInv.pop(toDrop)\n",
    "        print(\"You dropped\", tempItem + \".\")\n",
    "\n",
    "        with open(\"wizard_inventory.txt\", \"w\") as inv:\n",
    "            for item in wizardInv:\n",
    "                inv.write(item)\n",
    "\n",
    "def show():\n",
    "    wizardInv = checkInv()\n",
    "    x = 1\n",
    "    for i in wizardInv:\n",
    "        print(str(x) + \".\\t\", i)\n",
    "        x+=1\n",
    "\n",
    "def menu():\n",
    "    print(\"\\nwalk - Walk down the path \\nshow - Show all items \\ndrop - Drop an item \\nexit - Exit program\")\n",
    "\n",
    "def main():\n",
    "    menu()\n",
    "\n",
    "    while True:\n",
    "        option = input(\"\\nCommand: \")\n",
    "        if option.lower() == \"exit\":\n",
    "            break\n",
    "        elif option.lower() == \"walk\":\n",
    "            walk()\n",
    "        elif option.lower() == \"drop\":\n",
    "            drop()\n",
    "        elif option.lower() == \"show\":\n",
    "            show()\n",
    "        else:\n",
    "            print(\"Invalid option.\")\n",
    "\n",
    "if __name__ == \"__main__\":\n",
    "    main()"
   ]
  },
  {
   "cell_type": "markdown",
   "metadata": {},
   "source": [
    "## 7.3 Monthly Sales\n",
    "Create a program that reads the sales for 12 months from a file and calculates the total yearly sales as well as the average monthly sales. In addition, this program should let the user edit the sales for any month.\n",
    "\n",
    "### Console:\n",
    "```powershell\n",
    "Monthly Sales program\n",
    "\n",
    "COMMAND MENU\n",
    "monthly - View monthly sales \n",
    "yearly\t- View yearly sumary \n",
    "edit\t- Edit sales for a month \n",
    "exit\t- Exit program\n",
    "\n",
    "Command: monthly \n",
    "Jan - 14317\n",
    "Feb - 3903\n",
    "Mar - 1073\n",
    "Apr - 3463\n",
    "May - 2429\n",
    "Jun - 4324\n",
    "Jul - 9762\n",
    "Aug - 15578\n",
    "Sep - 2437\n",
    "Oct - 6735\n",
    "Nov - 88\n",
    "Dec - 2497\n",
    "\n",
    "Command: yearly\n",
    "Yearly total:\t66606\n",
    "Monthly average:\t5550.5\n",
    "\n",
    "Command: edit\n",
    "Three-letter Month: Nov Sales Amount: 8854\n",
    "Sales amount for Nov was modified.\n",
    "\n",
    "Command: exit Bye!\n",
    "```\n",
    "\n",
    "### Specifications:\n",
    "- Use the attached text file named CSV file named `monthly_sales.csv` that contains the month and sales data shown above.\n",
    "- For the edit command, display an error message if the user doesn’t enter a valid three-letter abbreviation for the month.\n",
    "- When the user edits the sales amount for a month, the data should be saved to the CSV file immediately. That way, no data is lost, even if the program crashes later.\n",
    "- Round the results of the monthly average to a maximum of 2 decimal digits."
   ]
  },
  {
   "cell_type": "code",
   "execution_count": 126,
   "metadata": {},
   "outputs": [
    {
     "name": "stdout",
     "output_type": "stream",
     "text": [
      "monthly - View monthly sales \n",
      "yearly - View yearly summary \n",
      "edit - Edit sales for a month \n",
      "exit - Exit program\n"
     ]
    },
    {
     "name": "stdin",
     "output_type": "stream",
     "text": [
      "\n",
      "Command:  monthly\n"
     ]
    },
    {
     "name": "stdout",
     "output_type": "stream",
     "text": [
      "Jan - 14317\n",
      "Feb - 3903\n",
      "Mar - 1073\n",
      "Apr - 3463\n",
      "May - 2429\n",
      "Jun - 4324\n",
      "Jul - 9762\n",
      "Aug - 15578\n",
      "Sep - 2437\n",
      "Oct - 6735\n",
      "Nov - 88\n",
      "Dec - 2497\n"
     ]
    },
    {
     "name": "stdin",
     "output_type": "stream",
     "text": [
      "\n",
      "Command:  edit\n",
      "Three-letter month:  Nov\n",
      "Sales amount:  2\n"
     ]
    },
    {
     "name": "stdout",
     "output_type": "stream",
     "text": [
      "Sales amount for Nov was modified.\n"
     ]
    },
    {
     "name": "stdin",
     "output_type": "stream",
     "text": [
      "\n",
      "Command:  monthly\n"
     ]
    },
    {
     "name": "stdout",
     "output_type": "stream",
     "text": [
      "Jan - 14317\n",
      "Feb - 3903\n",
      "Mar - 1073\n",
      "Apr - 3463\n",
      "May - 2429\n",
      "Jun - 4324\n",
      "Jul - 9762\n",
      "Aug - 15578\n",
      "Sep - 2437\n",
      "Oct - 6735\n",
      "Nov - 2\n",
      "Dec - 2497\n"
     ]
    },
    {
     "name": "stdin",
     "output_type": "stream",
     "text": [
      "\n",
      "Command:  yearly\n"
     ]
    },
    {
     "name": "stdout",
     "output_type": "stream",
     "text": [
      "Yearly total: 66520 \n",
      "Monthly average: 5543.33\n"
     ]
    },
    {
     "name": "stdin",
     "output_type": "stream",
     "text": [
      "\n",
      "Command:  edit\n",
      "Three-letter month:  Nov\n",
      "Sales amount:  88\n"
     ]
    },
    {
     "name": "stdout",
     "output_type": "stream",
     "text": [
      "Sales amount for Nov was modified.\n"
     ]
    },
    {
     "name": "stdin",
     "output_type": "stream",
     "text": [
      "\n",
      "Command:  exit\n"
     ]
    },
    {
     "name": "stdout",
     "output_type": "stream",
     "text": [
      "Bye!\n"
     ]
    }
   ],
   "source": [
    "### CODE HERE ###\n",
    "import csv\n",
    "\n",
    "def menu():\n",
    "    print(\"monthly - View monthly sales \\nyearly - View yearly summary \\nedit - Edit sales for a month \\nexit - Exit program\")\n",
    "\n",
    "def initSales():\n",
    "    with open(\"monthly_sales.csv\", newline=\"\") as sales:\n",
    "        reader = csv.reader(sales)\n",
    "        for row in reader:\n",
    "            if row[0] == \"Jan\":\n",
    "                pastSales = [[\"Jan\", row[1]]]\n",
    "            else:\n",
    "                temp = [row[0], row[1]]\n",
    "                pastSales.append(temp)\n",
    "    return pastSales\n",
    "\n",
    "def monthly(pastSales):\n",
    "    for i in range(0, len(pastSales)):\n",
    "        print(pastSales[i][0], \"-\", pastSales[i][1])\n",
    "\n",
    "def yearly(pastSales):\n",
    "    yearTotal = 0\n",
    "    monthAvg = 0\n",
    "                \n",
    "    for i in range(0, len(pastSales)):\n",
    "        yearTotal+=int(pastSales[i][1])\n",
    "\n",
    "    monthAvg = yearTotal/12\n",
    "    \n",
    "    print(\"Yearly total:\", yearTotal, \"\\nMonthly average:\", round(monthAvg, 2))\n",
    "\n",
    "def edit(pastSales):\n",
    "    toEdit = input(\"Three-letter month: \")\n",
    "    editAmount = input(\"Sales amount: \")\n",
    "    found = 0\n",
    "\n",
    "    if len(toEdit) != 3:\n",
    "        print(\"Only three-letter abbreviations are accepted.\")\n",
    "        return\n",
    "    \n",
    "    for i in range(0, len(pastSales)):\n",
    "        if pastSales[i][0] == toEdit:\n",
    "            found = 1\n",
    "            pastSales[i][1] = editAmount\n",
    "\n",
    "    if found == 1:\n",
    "        with open(\"monthly_sales.csv\", \"w\", newline=\"\") as sales:\n",
    "            writer = csv.writer(sales)\n",
    "            writer.writerows(pastSales)\n",
    "            print(\"Sales amount for\", toEdit, \"was modified.\")\n",
    "    else:\n",
    "        print(\"Month not found.\")\n",
    "\n",
    "def main():\n",
    "    menu()\n",
    "    pastSales = initSales()\n",
    "\n",
    "    while True:\n",
    "        option = input(\"\\nCommand: \")\n",
    "        if option.lower() == \"exit\":\n",
    "            print(\"Bye!\")\n",
    "            break\n",
    "        elif option.lower() == \"monthly\":\n",
    "            monthly(pastSales)\n",
    "        elif option.lower() == \"yearly\":\n",
    "            yearly(pastSales)\n",
    "        elif option.lower() == \"edit\":\n",
    "            edit(pastSales)\n",
    "        else:\n",
    "            print(\"Invalid option.\")\n",
    "\n",
    "if __name__ == \"__main__\":\n",
    "    main()"
   ]
  },
  {
   "cell_type": "code",
   "execution_count": null,
   "metadata": {},
   "outputs": [],
   "source": []
  }
 ],
 "metadata": {
  "kernelspec": {
   "display_name": "Python [conda env:base] *",
   "language": "python",
   "name": "conda-base-py"
  },
  "language_info": {
   "codemirror_mode": {
    "name": "ipython",
    "version": 3
   },
   "file_extension": ".py",
   "mimetype": "text/x-python",
   "name": "python",
   "nbconvert_exporter": "python",
   "pygments_lexer": "ipython3",
   "version": "3.12.7"
  }
 },
 "nbformat": 4,
 "nbformat_minor": 4
}
