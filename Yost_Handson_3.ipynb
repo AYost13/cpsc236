{
 "cells": [
  {
   "cell_type": "markdown",
   "metadata": {},
   "source": [
    "# Functions\n",
    "\n",
    "To submit this assignment in D2l, post the link to your notebook file on your GitHub account."
   ]
  },
  {
   "cell_type": "markdown",
   "metadata": {},
   "source": [
    "## 4.1 Even or Odd Checker\n",
    "Create a program that checks whether a number is even or odd.\n",
    "\n",
    "### Console:\n",
    "```powershell\n",
    "Even or Odd Checker\n",
    "\n",
    "Enter an integer: 33\n",
    "This is an odd number.\n",
    "```\n",
    "\n",
    "### Specifications:\n",
    "- Store the code that gets user input and displays output in the main function.\n",
    "- Store the code that checks whether the number is even or odd in a separate function.\n",
    "- Assume that the user will enter a valid integer.\n"
   ]
  },
  {
   "cell_type": "code",
   "execution_count": 35,
   "metadata": {},
   "outputs": [
    {
     "name": "stdin",
     "output_type": "stream",
     "text": [
      "Enter an integer:  5\n"
     ]
    },
    {
     "name": "stdout",
     "output_type": "stream",
     "text": [
      "This is an odd number.\n"
     ]
    }
   ],
   "source": [
    "### CODE HERE ###\n",
    "\n",
    "def even_or_odd(x):\n",
    "    if x % 2 == 0:\n",
    "        return \"even\"\n",
    "    else:\n",
    "        return \"odd\"\n",
    "\n",
    "def main():\n",
    "    x = int(input(\"Enter an integer: \"))\n",
    "    print(\"This is an\", even_or_odd(x), \"number.\")\n",
    "\n",
    "main()"
   ]
  },
  {
   "cell_type": "markdown",
   "metadata": {},
   "source": [
    "## 4.2 - Feet and Meters Converter\n",
    "Create a program that converts feet to meters and vice versa.\n",
    "\n",
    "### Console\n",
    "```powershell\n",
    "Feet and Meters Converter\n",
    "\n",
    "Conversions Menu:\n",
    "a.\tFeet to Meters\n",
    "b.\tMeters to Feet\n",
    "Select a conversion (a/b): a\n",
    "\n",
    "Enter feet: 100\n",
    "30.48 meters\n",
    "\n",
    "Would you like to perform another conversion? (y/n): y \n",
    "\n",
    "Conversions Menu:\n",
    "a.\tFeet to Meters\n",
    "b.\tMeters to Feet\n",
    "Select a conversion (a/b): b\n",
    "\n",
    "Enter meters: 100\n",
    "328.08 feet\n",
    "\n",
    "Would you like to perform another conversion? (y/n): n\n",
    "\n",
    "Thanks, bye!\n",
    "```\n",
    "\n",
    "### Specifications:\n",
    "- The formula for converting feet to meters is:\n",
    "`feet = meters / 0.3048`\n",
    "\n",
    "- The formula for converting meters to feet is:\n",
    "`meters = feet * 0.3048`\n",
    "\n",
    "- Store the code that performs the conversions in functions within a module. For example, store the code that converts feet to meters in a function in a module.\n",
    "- Store the code that displays the title in its own function, and store the code that displays the menu in its own function, but store the rest of the code that gets input and displays output in a main function.\n",
    "- Assume the user will enter valid data.\n",
    "- The program should round results to a maximum of two decimal places.\n",
    "\n",
    "\n"
   ]
  },
  {
   "cell_type": "code",
   "execution_count": 77,
   "metadata": {},
   "outputs": [
    {
     "name": "stdout",
     "output_type": "stream",
     "text": [
      "Conversions menu: \n",
      "a.\tFeet to meters \n",
      "b.\tMeters to feet\n"
     ]
    },
    {
     "name": "stdin",
     "output_type": "stream",
     "text": [
      "Select a conversion:  a\n",
      "\n",
      "Enter feet:  100\n"
     ]
    },
    {
     "name": "stdout",
     "output_type": "stream",
     "text": [
      "30.48 meters\n"
     ]
    },
    {
     "name": "stdin",
     "output_type": "stream",
     "text": [
      "\n",
      "Would you like to perform another conversion? (y/n) y\n"
     ]
    },
    {
     "name": "stdout",
     "output_type": "stream",
     "text": [
      "Conversions menu: \n",
      "a.\tFeet to meters \n",
      "b.\tMeters to feet\n"
     ]
    },
    {
     "name": "stdin",
     "output_type": "stream",
     "text": [
      "Select a conversion:  b\n",
      "\n",
      "Enter meters:  100\n"
     ]
    },
    {
     "name": "stdout",
     "output_type": "stream",
     "text": [
      "328.08 feet\n"
     ]
    },
    {
     "name": "stdin",
     "output_type": "stream",
     "text": [
      "\n",
      "Would you like to perform another conversion? (y/n) \n"
     ]
    },
    {
     "name": "stdout",
     "output_type": "stream",
     "text": [
      "\n",
      "Thanks, bye!\n"
     ]
    }
   ],
   "source": [
    "### CODE HERE ###\n",
    "import conversions\n",
    "\n",
    "def menu():\n",
    "    print(\"Conversions menu: \\na.\\tFeet to meters \\nb.\\tMeters to feet\")\n",
    "\n",
    "def main():\n",
    "    cont = \"y\"\n",
    "    option = \"c\"\n",
    "    toConvert = 0\n",
    "    \n",
    "    while cont.lower() == \"y\":\n",
    "        menu()\n",
    "        option = input(\"Select a conversion: \")\n",
    "        \n",
    "        if option.lower() == \"a\":\n",
    "            toConvert = int(input(\"\\nEnter feet: \"))\n",
    "            print(feet_to_meters(toConvert), \"meters\")\n",
    "        elif option.lower() == \"b\":\n",
    "            toConvert = int(input(\"\\nEnter meters: \"))\n",
    "            print(meters_to_feet(toConvert), \"feet\")\n",
    "        else:\n",
    "            print(\"Invalid option.\")\n",
    "            \n",
    "        cont = input(\"\\nWould you like to perform another conversion? (y/n)\")\n",
    "    print(\"\\nThanks, bye!\")\n",
    "    \n",
    "main()"
   ]
  },
  {
   "cell_type": "markdown",
   "metadata": {},
   "source": [
    "## 4.3 - Sales Tax Calculator\n",
    "Create a program that uses a separate module to calculate sales tax and total after tax.\n",
    "\n",
    "### Console\n",
    "```powershell\n",
    "Sales Tax Calculator\n",
    "\n",
    "ENTER ITEMS (ENTER 0 TO END)\n",
    "Cost of item: 35.99 \n",
    "Cost of item: 27.50 \n",
    "Cost of item: 19.59 \n",
    "Cost of item: 0 \n",
    "Total:  83.08\n",
    "Sales tax:\t4.98\n",
    "Total after tax: 88.06 \n",
    "\n",
    "Again? (y/n): y\n",
    "\n",
    "ENTER ITEMS (ENTER 0 TO END)\n",
    "Cost of item: 152.50 \n",
    "Cost of item: 59.80 \n",
    "Cost of item: 0\n",
    "Total:  212.3\n",
    "Sales tax:\t12.74\n",
    "Total after tax: 225.04 \n",
    "\n",
    "Again? (y/n): n\n",
    "\n",
    "Thanks, bye!\n",
    "\n",
    "```\n",
    "\n",
    "### Specifications\n",
    "- The sales tax rate should be 6% of the total.\n",
    "- Store the sales tax rate in a module. This module should also contain functions that calculate the sales tax and the total after tax. These functions should round the results to a maximum of two decimal places. Upload the seperate sales tax module to your GitHub repo when submitting.\n",
    "- Store the code that gets input and displays output in this notebook. Divide this code into functions wherever you think it would make that code easier to read and maintain.\n",
    "- Assume the user will enter valid data.\n",
    "\n"
   ]
  },
  {
   "cell_type": "code",
   "execution_count": 69,
   "metadata": {},
   "outputs": [
    {
     "name": "stdin",
     "output_type": "stream",
     "text": [
      "ENTER ITEMS (ENTER 0 TO END) \n",
      "Cost of item:  1\n",
      "Cost of item:  2\n",
      "Cost of item:  3\n",
      "Cost of item:  4\n",
      "Cost of item:  0\n"
     ]
    },
    {
     "name": "stdout",
     "output_type": "stream",
     "text": [
      "Total: 10 \n",
      "Sales tax: 0.6 \n",
      "Total after tax: 10.6\n"
     ]
    },
    {
     "name": "stdin",
     "output_type": "stream",
     "text": [
      "\n",
      "Again? (y/n) n\n"
     ]
    },
    {
     "name": "stdout",
     "output_type": "stream",
     "text": [
      "\n",
      "Thanks, bye!\n"
     ]
    }
   ],
   "source": [
    "### CODE HERE ###\n",
    "import salesmodule\n",
    "\n",
    "def determine_total():\n",
    "    current = int(input(\"ENTER ITEMS (ENTER 0 TO END) \\nCost of item: \"))\n",
    "    total = current\n",
    "    while current != 0:\n",
    "        current = int(input(\"Cost of item: \"))\n",
    "        total += current\n",
    "    return total\n",
    "\n",
    "def main():\n",
    "    cont = \"y\"\n",
    "    while cont.lower() == \"y\":\n",
    "        total = determine_total()\n",
    "        taxAmount = sales_tax(total)\n",
    "        fullTotal = full_total(total, taxAmount)\n",
    "\n",
    "        print(\"Total:\", total, \"\\nSales tax:\", taxAmount, \"\\nTotal after tax:\", fullTotal)\n",
    "        cont = input(\"\\nAgain? (y/n)\")\n",
    "\n",
    "    print(\"\\nThanks, bye!\")\n",
    "\n",
    "main()"
   ]
  },
  {
   "cell_type": "markdown",
   "metadata": {},
   "source": [
    "## 4.4 - Prime Number Checker\n",
    "Create a program that checks whether a number is a prime number and displays the total number of factors if it is not a prime number.\n",
    "\n",
    "### Console\n",
    "```powershell\n",
    "Prime Number Checker\n",
    "\n",
    "Please enter an integer between 1 and 5000: 1 \n",
    "Invalid integer. Please try again.\n",
    "Please enter an integer between 1 and 5000: 2\n",
    "2 is a prime number. \n",
    "\n",
    "Try again? (y/n): y\n",
    "\n",
    "Please enter an integer between 1 and 5000: 3\n",
    "3 is a prime number.\n",
    "\n",
    "Try again? (y/n): y\n",
    "\n",
    "Please enter an integer between 1 and 5000: 4\n",
    "4 is NOT a prime number.\n",
    "It has 3 factors.\n",
    "\n",
    "Try again? (y/n): y\n",
    "\n",
    "Please enter an integer between 1 and 5000: 6\n",
    "6 is NOT a prime number.\n",
    "It has 4 factors.\n",
    "\n",
    "Try again? (y/n): n\n",
    "\n",
    "Bye!\n",
    "```\n",
    "\n",
    "### Specifications\n",
    "- A prime number is only divisible by two factors (1 and itself). For example, 7 is a prime number because it is only divisible by 1 and 7.\n",
    "- If the number is not a prime number, the program should display its number of factors. For example, 6 has four factors (1, 2, 3, and 6).\n",
    "- Store the code that gets a valid integer for this program in its own function.\n",
    "- Store the code that calculates the number of factors for a number in its own function.\n",
    "- Store the rest of the code that gets input and displays output in the main function.\n",
    "\n"
   ]
  },
  {
   "cell_type": "code",
   "execution_count": 65,
   "metadata": {},
   "outputs": [
    {
     "name": "stdin",
     "output_type": "stream",
     "text": [
      "Please enter an integer between 1 and 5000:  3\n"
     ]
    },
    {
     "name": "stdout",
     "output_type": "stream",
     "text": [
      "3 is a prime number.\n"
     ]
    },
    {
     "name": "stdin",
     "output_type": "stream",
     "text": [
      "\n",
      "Try again? (y/n) y\n",
      "Please enter an integer between 1 and 5000:  4\n"
     ]
    },
    {
     "name": "stdout",
     "output_type": "stream",
     "text": [
      "4 is NOT a prime number. \n",
      "It has 3 factors.\n"
     ]
    },
    {
     "name": "stdin",
     "output_type": "stream",
     "text": [
      "\n",
      "Try again? (y/n) y\n",
      "Please enter an integer between 1 and 5000:  6\n"
     ]
    },
    {
     "name": "stdout",
     "output_type": "stream",
     "text": [
      "6 is NOT a prime number. \n",
      "It has 4 factors.\n"
     ]
    },
    {
     "name": "stdin",
     "output_type": "stream",
     "text": [
      "\n",
      "Try again? (y/n) y\n",
      "Please enter an integer between 1 and 5000:  7\n"
     ]
    },
    {
     "name": "stdout",
     "output_type": "stream",
     "text": [
      "7 is a prime number.\n"
     ]
    },
    {
     "name": "stdin",
     "output_type": "stream",
     "text": [
      "\n",
      "Try again? (y/n) n\n"
     ]
    },
    {
     "name": "stdout",
     "output_type": "stream",
     "text": [
      "\n",
      "Bye!\n"
     ]
    }
   ],
   "source": [
    "### CODE HERE ###\n",
    "def get_integer():\n",
    "    x = 0\n",
    "    while x == 0:\n",
    "        y = int(input(\"Please enter an integer between 1 and 5000: \"))\n",
    "        if y >= 5000 or y <= 1:\n",
    "            print(\"Invalid integer. Please try again.\")\n",
    "        else:\n",
    "            x = 1\n",
    "    return y\n",
    "\n",
    "def num_factors(x):\n",
    "    countFactor = 0\n",
    "    for i in range(1, x + 1):\n",
    "        if x % i == 0:\n",
    "            countFactor+=1\n",
    "    return countFactor\n",
    "\n",
    "def main():\n",
    "    cont = \"y\"\n",
    "    while cont.lower() == \"y\":\n",
    "        x = get_integer()\n",
    "        factors = num_factors(x)\n",
    "        if factors == 2:\n",
    "            print(x, \"is a prime number.\")\n",
    "        else:\n",
    "            print(x, \"is NOT a prime number. \\nIt has\", factors, \"factors.\")\n",
    "        cont = input(\"\\nTry again? (y/n)\")\n",
    "    print(\"\\nBye!\")\n",
    "\n",
    "main()"
   ]
  },
  {
   "cell_type": "code",
   "execution_count": null,
   "metadata": {},
   "outputs": [],
   "source": []
  }
 ],
 "metadata": {
  "kernelspec": {
   "display_name": "Python [conda env:base] *",
   "language": "python",
   "name": "conda-base-py"
  },
  "language_info": {
   "codemirror_mode": {
    "name": "ipython",
    "version": 3
   },
   "file_extension": ".py",
   "mimetype": "text/x-python",
   "name": "python",
   "nbconvert_exporter": "python",
   "pygments_lexer": "ipython3",
   "version": "3.12.7"
  }
 },
 "nbformat": 4,
 "nbformat_minor": 4
}
